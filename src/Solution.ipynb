{
 "cells": [
  {
   "cell_type": "markdown",
   "id": "3b398200",
   "metadata": {},
   "source": [
    "**Введение**\n",
    "\n",
    "1. Предсказание фильмов/игр/музыки/видео на основе данных о пользователе  Ассоциация\n",
    "2. Предсказание и распознавание болезни у пациента  Классификация\n",
    "3. Предсказание выплаты/невыплаты задолженности     Классификация\n",
    "4. Прогноз погоды                                   Регрессия\n",
    "5. Автопилот                                        Классификация\n",
    "\n",
    "multiclass - один пример имеет один класс\n",
    "multilabel - один пример может иметь от одного до всех возможных классов\n",
    "\n",
    "Да. Да, можно - разным диапазонам цены присвоить номера классов. Так это будет задача классификации."
   ]
  },
  {
   "cell_type": "code",
   "execution_count": null,
   "id": "d052e82d",
   "metadata": {},
   "outputs": [],
   "source": [
    "from sklearn.preprocessing import PolynomialFeatures, StandardScaler\n",
    "from sklearn.linear_model import LinearRegression\n",
    "from sklearn.model_selection import GridSearchCV\n",
    "from sklearn.tree import DecisionTreeRegressor\n",
    "from sklearn.metrics import mean_squared_error, mean_absolute_error\n",
    "import seaborn as sns\n",
    "import numpy as np\n",
    "import pandas as pd\n",
    "import lightgbm as lgb\n",
    "import matplotlib.pyplot as plt"
   ]
  },
  {
   "cell_type": "code",
   "execution_count": null,
   "id": "c1d93b4d",
   "metadata": {},
   "outputs": [],
   "source": [
    "df = pd.read_json('../datasets/train.json')\n",
    "rows, cols = df.shape\n",
    "print(f'{rows} rows and {cols} columns')"
   ]
  },
  {
   "cell_type": "code",
   "execution_count": null,
   "id": "6ff58344",
   "metadata": {},
   "outputs": [],
   "source": [
    "df.head()\n",
    "print('price')"
   ]
  },
  {
   "cell_type": "code",
   "execution_count": null,
   "id": "55c0cf61",
   "metadata": {},
   "outputs": [],
   "source": [
    "df.info()"
   ]
  },
  {
   "cell_type": "markdown",
   "id": "6314ae6d",
   "metadata": {},
   "source": [
    "Пустых столбцов нет."
   ]
  },
  {
   "cell_type": "code",
   "execution_count": null,
   "id": "1990b3d1",
   "metadata": {},
   "outputs": [],
   "source": [
    "df.describe()"
   ]
  },
  {
   "cell_type": "markdown",
   "id": "c10ef53b",
   "metadata": {},
   "source": [
    "Есть выбросы по сан. узлам и спальням, так как max значительно больше 75%."
   ]
  },
  {
   "cell_type": "code",
   "execution_count": null,
   "id": "264f32ae",
   "metadata": {},
   "outputs": [],
   "source": [
    "df.corr(numeric_only=True)"
   ]
  },
  {
   "cell_type": "markdown",
   "id": "2782b46b",
   "metadata": {},
   "source": [
    "Значения коррелируют как положительно, так и отрицательно."
   ]
  },
  {
   "cell_type": "code",
   "execution_count": null,
   "id": "fd81224b",
   "metadata": {},
   "outputs": [],
   "source": [
    "df = df[['bathrooms', 'bedrooms', 'interest_level', 'price']]"
   ]
  },
  {
   "cell_type": "code",
   "execution_count": null,
   "id": "97cdae35",
   "metadata": {},
   "outputs": [],
   "source": [
    "plt.figure(figsize=(10,6))\n",
    "filtered_df = df[df['price'] < 10000] # фильтр чтобы гистограмма не отображала выбросы\n",
    "sns.histplot(filtered_df['price'], bins=50, kde=True)\n",
    "\n",
    "plt.xlim(0, 10000)\n",
    "plt.title('Распределение цен на квартиры')\n",
    "plt.xlabel('Цена')\n",
    "plt.ylabel('Количество квартир')\n",
    "plt.show()\n"
   ]
  },
  {
   "cell_type": "code",
   "execution_count": null,
   "id": "b9b96e85",
   "metadata": {},
   "outputs": [],
   "source": [
    "plt.figure(figsize=(12, 4))\n",
    "\n",
    "filtered_df = df[df['price'] < 10000]\n",
    "sns.boxplot(x=filtered_df['price'])\n",
    "\n",
    "plt.title('boxplot()')\n",
    "plt.xlabel('цена')\n",
    "\n",
    "plt.show()"
   ]
  },
  {
   "cell_type": "markdown",
   "id": "f2364df3",
   "metadata": {},
   "source": [
    "Есть много выбросов, так как цены выходят за границы диапазона Q3 + 1.5*IQR, большая часть цен находится в диапазоне от 2500 до 4000, медианная цена около 3000."
   ]
  },
  {
   "cell_type": "code",
   "execution_count": null,
   "id": "86899b7d",
   "metadata": {},
   "outputs": [],
   "source": [
    "lower = df['price'].quantile(0.01)\n",
    "upper = df['price'].quantile(0.99)\n",
    "new_df = df[(df['price'] > lower) & (df['price'] < upper)]\n",
    "\n",
    "plt.figure(figsize=(10,6))\n",
    "sns.histplot(new_df['price'], bins=50, kde=True)\n",
    "\n",
    "plt.xlim(0, 10000)\n",
    "plt.title('Распределение цен на квартиры')\n",
    "plt.xlabel('Цена')\n",
    "plt.ylabel('Количество квартир')\n",
    "plt.show()"
   ]
  },
  {
   "cell_type": "markdown",
   "id": "cb44a0bf",
   "metadata": {},
   "source": [
    "Часть графика с низкими ценами больше не отображается, потому что квартиры с ценой до ~1600 попали в первый процентиль и были удалены при фильтрации выбросов."
   ]
  },
  {
   "cell_type": "code",
   "execution_count": null,
   "id": "8ddf2d0d",
   "metadata": {},
   "outputs": [],
   "source": [
    "df['interest_level'].dtype"
   ]
  },
  {
   "cell_type": "markdown",
   "id": "a490a8da",
   "metadata": {},
   "source": [
    "Значения в interest_level хранятся как строки."
   ]
  },
  {
   "cell_type": "code",
   "execution_count": null,
   "id": "f1b06041",
   "metadata": {},
   "outputs": [],
   "source": [
    "df['interest_level']"
   ]
  },
  {
   "cell_type": "code",
   "execution_count": null,
   "id": "8ea610b1",
   "metadata": {},
   "outputs": [],
   "source": [
    "df['interest_level'].value_counts()"
   ]
  },
  {
   "cell_type": "code",
   "execution_count": null,
   "id": "b9a5a415",
   "metadata": {},
   "outputs": [],
   "source": [
    "mapping = {'low': 0, 'medium': 1, 'high': 2}\n",
    "df['interest_level'] = df['interest_level'].map(mapping)\n",
    "df.head()"
   ]
  },
  {
   "cell_type": "code",
   "execution_count": null,
   "id": "950aa9d3",
   "metadata": {},
   "outputs": [],
   "source": [
    "plt.figure(figsize=(10,6))\n",
    "sns.histplot(df['bedrooms'], bins=20)\n",
    "\n",
    "plt.title('Распределение по количеству спален')\n",
    "plt.ylabel('Количество квартир')\n",
    "plt.xlabel('Количество спален')\n",
    "plt.show()"
   ]
  },
  {
   "cell_type": "markdown",
   "id": "394c14ef",
   "metadata": {},
   "source": [
    "Выбросов как таковых нет, просто квартир с количеством спален >5 очень мало."
   ]
  },
  {
   "cell_type": "code",
   "execution_count": null,
   "id": "4e1714af",
   "metadata": {},
   "outputs": [],
   "source": [
    "plt.figure(figsize=(10,6))\n",
    "sns.histplot(df['bathrooms'], bins=10)\n",
    "\n",
    "plt.title('Распределение по количеству ванных комнат')\n",
    "plt.ylabel('Количество квартир')\n",
    "plt.xlabel('Количество ванных комнат')\n",
    "plt.show()"
   ]
  },
  {
   "cell_type": "markdown",
   "id": "045023fd",
   "metadata": {},
   "source": [
    "Ситуация с выбросами та же что со спальнями."
   ]
  },
  {
   "cell_type": "code",
   "execution_count": null,
   "id": "30945161",
   "metadata": {},
   "outputs": [],
   "source": [
    "corr_matrix = df.corr()\n",
    "print(corr_matrix)"
   ]
  },
  {
   "cell_type": "code",
   "execution_count": null,
   "id": "d15a86a3",
   "metadata": {},
   "outputs": [],
   "source": [
    "plt.figure(figsize=(12,8))\n",
    "sns.heatmap(corr_matrix, annot=True, cmap='coolwarm', linewidths=0.5, square=True)"
   ]
  },
  {
   "cell_type": "markdown",
   "id": "24a38f55",
   "metadata": {},
   "source": [
    "Корреляция между признаками и целевым объектом есть, самое большое значение у количества ванных комнат. Наиболее высокая отрицательная зависимость у уровня интереса."
   ]
  },
  {
   "cell_type": "code",
   "execution_count": null,
   "id": "d3a01a2e",
   "metadata": {},
   "outputs": [],
   "source": [
    "features = ['bathrooms', 'bedrooms', 'interest_level']\n",
    "\n",
    "fig, axes = plt.subplots(1, 3, figsize=(18, 5))\n",
    "\n",
    "for i, feature in enumerate(features):\n",
    "    sns.scatterplot(\n",
    "        data=corr_matrix,\n",
    "        x='price',\n",
    "        y=feature,\n",
    "        ax=axes[i]\n",
    "    )\n",
    "    axes[i].set_title(f'Price vs {feature}')\n",
    "    axes[i].set_xlabel('Price')\n",
    "    axes[i].set_ylabel(feature)\n",
    "\n",
    "plt.tight_layout()\n",
    "plt.show()"
   ]
  },
  {
   "cell_type": "code",
   "execution_count": null,
   "id": "1c5ea84e",
   "metadata": {},
   "outputs": [],
   "source": [
    "df['bathrooms_squared'] = df['bathrooms'] ** 2\n",
    "df['bedrooms_squared'] = df['bedrooms'] ** 2\n",
    "df['interest_level_squared'] = df['interest_level'] ** 2"
   ]
  },
  {
   "cell_type": "code",
   "execution_count": null,
   "id": "dc92d2b9",
   "metadata": {},
   "outputs": [],
   "source": [
    "corr_matrix_new = df.corr()\n",
    "corr_matrix_new"
   ]
  },
  {
   "cell_type": "markdown",
   "id": "e78c3d64",
   "metadata": {},
   "source": [
    "bathroooms_squared и bedrooms_squared стали коррелировать с ценой больше чем не возведенные в квадрат значения. interest_level_squared имеет меньшую отрицательную корреляцию с ценой по сравнению с interest_level."
   ]
  },
  {
   "cell_type": "code",
   "execution_count": null,
   "id": "fc1e800a",
   "metadata": {},
   "outputs": [],
   "source": [
    "train = pd.read_json('../datasets/train.json')\n",
    "test = pd.read_json('../datasets/test.json')\n",
    "\n",
    "X_train = train.select_dtypes(include=['number']).drop('price', axis=1)\n",
    "X_test = test.select_dtypes(include=['number']).drop('price', axis=1)\n",
    "\n",
    "y_train = train['price']\n",
    "y_test = test['price']"
   ]
  },
  {
   "cell_type": "code",
   "execution_count": null,
   "id": "c2305759",
   "metadata": {},
   "outputs": [],
   "source": [
    "X_train_scaled = StandardScaler().fit_transform(X_train)\n",
    "X_test_scaled = StandardScaler().fit_transform(X_test)"
   ]
  },
  {
   "cell_type": "code",
   "execution_count": null,
   "id": "4025bc6c",
   "metadata": {},
   "outputs": [],
   "source": [
    "poly = PolynomialFeatures(degree=10, include_bias=False)\n",
    "X_train_poly = poly.fit_transform(X_train_scaled)\n",
    "X_test_poly = poly.transform(X_test_scaled)"
   ]
  },
  {
   "cell_type": "code",
   "execution_count": null,
   "id": "79f2e74c",
   "metadata": {},
   "outputs": [],
   "source": [
    "result_MAE = pd.DataFrame(columns=['model', 'train', 'test'])\n",
    "result_RMSE = pd.DataFrame(columns=['model', 'train', 'test'])"
   ]
  },
  {
   "cell_type": "code",
   "execution_count": null,
   "id": "f2de3bcd",
   "metadata": {},
   "outputs": [],
   "source": [
    "lr = LinearRegression()\n",
    "lr.fit(X_train_poly, y_train)\n",
    "\n",
    "train_preds = lr.predict(X_train_poly)\n",
    "test_preds = lr.predict(X_test_poly)\n",
    "\n",
    "train['lr_prediction'] = train_preds\n",
    "test['lr_prediction'] = test_preds"
   ]
  },
  {
   "cell_type": "code",
   "execution_count": null,
   "id": "176a1ead",
   "metadata": {},
   "outputs": [],
   "source": [
    "mae_train = mean_absolute_error(y_train, train_preds)\n",
    "mae_test = mean_absolute_error(y_test, test_preds)\n",
    "\n",
    "rmse_train = np.sqrt(mean_squared_error(y_train, train_preds))\n",
    "rmse_test = np.sqrt(mean_squared_error(y_test, test_preds))\n",
    "\n",
    "print(f'MAE train: {mae_train:.2f}')\n",
    "print(f'MAE test: {mae_test:.2f}')\n",
    "print(f'RMSE test: {rmse_test:.2f}')\n",
    "print(f'RMSE train: {rmse_train:.2f}')"
   ]
  },
  {
   "cell_type": "code",
   "execution_count": null,
   "id": "fd259899",
   "metadata": {},
   "outputs": [],
   "source": [
    "result_MAE.loc[len(result_MAE)] = ['linear_regression', mae_train, mae_test]\n",
    "result_RMSE.loc[len(result_RMSE)] = ['linear_regression', rmse_train, rmse_test]"
   ]
  },
  {
   "cell_type": "code",
   "execution_count": null,
   "id": "9b7f27db",
   "metadata": {},
   "outputs": [],
   "source": [
    "dtree = DecisionTreeRegressor(random_state=21)\n",
    "\n",
    "param_grid = {\n",
    "    \"max_depth\": [3, 5, 7, 9],\n",
    "    \"min_samples_leaf\": [1, 3, 5],\n",
    "    \"max_features\": [None, \"sqrt\", \"log2\"],\n",
    "    \"criterion\": [\"mse\", \"friedman_mse\"]\n",
    "}\n",
    "\n",
    "grid_search = GridSearchCV(dtree, param_grid, cv=5, scoring=\"neg_mean_squared_error\")\n",
    "grid_search.fit(X_train_poly, y_train)\n",
    "\n",
    "best_params = grid_search.best_params_\n",
    "\n",
    "print(f'Best params = {best_params}')"
   ]
  },
  {
   "cell_type": "code",
   "execution_count": null,
   "id": "8b010db7",
   "metadata": {},
   "outputs": [],
   "source": [
    "best_dtree = DecisionTreeRegressor(**best_params, random_state=21)\n",
    "best_dtree.fit(X_train_poly, y_train)\n",
    "dtree_train_pred = best_dtree.predict(X_train_poly)\n",
    "dtree_test_pred = best_dtree.predict(X_test_poly)\n",
    "\n",
    "train['dtree_prediction'] = dtree_train_pred\n",
    "test['dtree_prediction'] = dtree_test_pred"
   ]
  },
  {
   "cell_type": "code",
   "execution_count": null,
   "id": "894f5e5a",
   "metadata": {},
   "outputs": [],
   "source": [
    "mae_train = mean_absolute_error(y_train, dtree_train_pred)\n",
    "mae_test = mean_absolute_error(y_test, dtree_test_pred)\n",
    "\n",
    "rmse_train = np.sqrt(mean_squared_error(y_train, dtree_train_pred))\n",
    "rmse_test = np.sqrt(mean_squared_error(y_test, dtree_test_pred))\n",
    "\n",
    "print(f'MAE train: {mae_train:.2f}')\n",
    "print(f'MAE test: {mae_test:.2f}')\n",
    "print(f'RMSE test: {rmse_test:.2f}')\n",
    "print(f'RMSE train: {rmse_train:.2f}')"
   ]
  },
  {
   "cell_type": "code",
   "execution_count": null,
   "id": "07f61c8d",
   "metadata": {},
   "outputs": [],
   "source": [
    "result_MAE.loc[len(result_MAE)] = ['decision_tree', mae_train, mae_test]\n",
    "result_RMSE.loc[len(result_RMSE)] = ['decision_tree', rmse_train, rmse_test]"
   ]
  },
  {
   "cell_type": "code",
   "execution_count": null,
   "id": "55025a77",
   "metadata": {},
   "outputs": [],
   "source": [
    "mean_price_train = y_train.mean()\n",
    "mean_price_test = y_test.mean()\n",
    "\n",
    "median_price_train = y_train.median()\n",
    "median_price_test = y_test.median()\n",
    "\n",
    "train['naive_prediction_mean'] = mean_price_train\n",
    "train['naive_prediction_median'] = median_price_train\n",
    "\n",
    "test['naive_prediction_mean'] = mean_price_test\n",
    "test['naive_prediction_median'] = median_price_test"
   ]
  },
  {
   "cell_type": "code",
   "execution_count": null,
   "id": "ff3c995e",
   "metadata": {},
   "outputs": [],
   "source": [
    "mae_train_mean = mean_absolute_error(y_train, np.full_like(y_train, mean_price_train))\n",
    "mae_test_mean = mean_absolute_error(y_test, np.full_like(y_test, mean_price_train))\n",
    "\n",
    "mae_train_median = mean_absolute_error(y_train, np.full_like(y_train, median_price_train))\n",
    "mae_test_median = mean_absolute_error(y_test, np.full_like(y_test, median_price_train))\n",
    "\n",
    "rmse_train_mean = np.sqrt(mean_squared_error(y_train, np.full_like(y_train, mean_price_train)))\n",
    "rmse_test_mean = np.sqrt(mean_squared_error(y_test, np.full_like(y_test, mean_price_train)))\n",
    "\n",
    "rmse_train_median = np.sqrt(mean_squared_error(y_train, np.full_like(y_train, median_price_train)))\n",
    "rmse_test_median = np.sqrt(mean_squared_error(y_test, np.full_like(y_test, median_price_train)))"
   ]
  },
  {
   "cell_type": "code",
   "execution_count": null,
   "id": "09ec041d",
   "metadata": {},
   "outputs": [],
   "source": [
    "result_MAE.loc[len(result_MAE)] = ['naive_mean', mae_train_mean, mae_test_mean]\n",
    "result_MAE.loc[len(result_MAE)] = ['naive_median', mae_train_median, mae_test_median]\n",
    "\n",
    "result_RMSE.loc[len(result_RMSE)] = ['naive_mean', rmse_train_mean, rmse_test_mean]\n",
    "result_RMSE.loc[len(result_RMSE)] = ['naive_median', rmse_train_median, rmse_test_median]"
   ]
  },
  {
   "cell_type": "code",
   "execution_count": null,
   "id": "d6f18791",
   "metadata": {},
   "outputs": [],
   "source": [
    "print(result_MAE)"
   ]
  },
  {
   "cell_type": "code",
   "execution_count": null,
   "id": "455e9dad",
   "metadata": {},
   "outputs": [],
   "source": [
    "print(result_RMSE)"
   ]
  },
  {
   "cell_type": "markdown",
   "id": "23444be7",
   "metadata": {},
   "source": [
    "Лучшей моделью является DecisionTreeRegressor, так как у нее наименьшие показатели ошибок."
   ]
  }
 ],
 "metadata": {
  "kernelspec": {
   "display_name": "venv",
   "language": "python",
   "name": "python3"
  },
  "language_info": {
   "codemirror_mode": {
    "name": "ipython",
    "version": 3
   },
   "file_extension": ".py",
   "mimetype": "text/x-python",
   "name": "python",
   "nbconvert_exporter": "python",
   "pygments_lexer": "ipython3",
   "version": "3.13.7"
  }
 },
 "nbformat": 4,
 "nbformat_minor": 5
}
